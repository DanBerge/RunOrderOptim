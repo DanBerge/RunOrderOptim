{
 "cells": [
  {
   "cell_type": "markdown",
   "metadata": {},
   "source": [
    "Load the necessary packages.  Uncomment the first two lines if it is necessary to add or update the packages."
   ]
  },
  {
   "cell_type": "code",
   "execution_count": 1,
   "metadata": {},
   "outputs": [],
   "source": [
    "#using Pkg\n",
    "#Pkg.add([\"Convex\",\"GLPKMathProgInterface\", \"DataFrames\"])\n",
    "using RunOrderOptim, Convex, GLPKMathProgInterface, DataFrames"
   ]
  },
  {
   "cell_type": "markdown",
   "metadata": {},
   "source": [
    "Load the class information for the event."
   ]
  },
  {
   "cell_type": "code",
   "execution_count": 2,
   "metadata": {},
   "outputs": [
    {
     "data": {
      "text/html": [
       "<table class=\"data-frame\"><thead><tr><th></th><th>Class</th><th>ClassGroup</th><th>BumpClass</th></tr><tr><th></th><th>String</th><th>String</th><th>String⍰</th></tr></thead><tbody><p>12 rows × 3 columns</p><tr><th>1</th><td>SS</td><td>Street</td><td>C1</td></tr><tr><th>2</th><td>AS</td><td>Street</td><td>C1</td></tr><tr><th>3</th><td>BS</td><td>Street</td><td>C1</td></tr><tr><th>4</th><td>CS</td><td>Street</td><td>C1</td></tr><tr><th>5</th><td>DS</td><td>Street</td><td>C1</td></tr><tr><th>6</th><td>ES</td><td>Street</td><td>C1</td></tr><tr><th>7</th><td>FS</td><td>Street</td><td>C1</td></tr><tr><th>8</th><td>GS</td><td>Street</td><td>C1</td></tr><tr><th>9</th><td>HS</td><td>Street</td><td>C1</td></tr><tr><th>10</th><td>SSC</td><td>Spec</td><td>C2</td></tr><tr><th>11</th><td>STS</td><td>Street Touring</td><td>C2</td></tr><tr><th>12</th><td>STX</td><td>Street Touring</td><td>C2</td></tr></tbody></table>"
      ],
      "text/latex": [
       "\\begin{tabular}{r|ccc}\n",
       "\t& Class & ClassGroup & BumpClass\\\\\n",
       "\t\\hline\n",
       "\t& String & String & String⍰\\\\\n",
       "\t\\hline\n",
       "\t1 & SS & Street & C1 \\\\\n",
       "\t2 & AS & Street & C1 \\\\\n",
       "\t3 & BS & Street & C1 \\\\\n",
       "\t4 & CS & Street & C1 \\\\\n",
       "\t5 & DS & Street & C1 \\\\\n",
       "\t6 & ES & Street & C1 \\\\\n",
       "\t7 & FS & Street & C1 \\\\\n",
       "\t8 & GS & Street & C1 \\\\\n",
       "\t9 & HS & Street & C1 \\\\\n",
       "\t10 & SSC & Spec & C2 \\\\\n",
       "\t11 & STS & Street Touring & C2 \\\\\n",
       "\t12 & STX & Street Touring & C2 \\\\\n",
       "\\end{tabular}\n"
      ],
      "text/plain": [
       "12×3 DataFrame\n",
       "│ Row │ Class  │ ClassGroup     │ BumpClass │\n",
       "│     │ \u001b[90mString\u001b[39m │ \u001b[90mString\u001b[39m         │ \u001b[90mString⍰\u001b[39m   │\n",
       "├─────┼────────┼────────────────┼───────────┤\n",
       "│ 1   │ SS     │ Street         │ C1        │\n",
       "│ 2   │ AS     │ Street         │ C1        │\n",
       "│ 3   │ BS     │ Street         │ C1        │\n",
       "│ 4   │ CS     │ Street         │ C1        │\n",
       "│ 5   │ DS     │ Street         │ C1        │\n",
       "│ 6   │ ES     │ Street         │ C1        │\n",
       "│ 7   │ FS     │ Street         │ C1        │\n",
       "│ 8   │ GS     │ Street         │ C1        │\n",
       "│ 9   │ HS     │ Street         │ C1        │\n",
       "│ 10  │ SSC    │ Spec           │ C2        │\n",
       "│ 11  │ STS    │ Street Touring │ C2        │\n",
       "│ 12  │ STX    │ Street Touring │ C2        │"
      ]
     },
     "execution_count": 2,
     "metadata": {},
     "output_type": "execute_result"
    }
   ],
   "source": [
    "df_classes=RunOrderOptim.read_classes() #Default to example classes\n",
    "first(df_classes,12) # Truncate the view for display purposes\n",
    "#show(df_classes,allrows=true) # Uncomment to show all the classes\n"
   ]
  },
  {
   "cell_type": "markdown",
   "metadata": {},
   "source": [
    "Load the entries for event from MotorSportsReg.com export"
   ]
  },
  {
   "cell_type": "code",
   "execution_count": 3,
   "metadata": {},
   "outputs": [
    {
     "data": {
      "text/html": [
       "<table class=\"data-frame\"><thead><tr><th></th><th>LastName</th><th>FirstName</th><th>Class</th><th>Index</th><th>Exempt</th><th>Novice</th><th>IndexedClass</th></tr><tr><th></th><th>String</th><th>String</th><th>String</th><th>String⍰</th><th>Bool</th><th>Bool</th><th>String</th></tr></thead><tbody><p>12 rows × 7 columns</p><tr><th>1</th><td>Abramovich</td><td>David</td><td>NA</td><td>missing</td><td>false</td><td>true</td><td>NA</td></tr><tr><th>2</th><td>Anderson</td><td>Dwight</td><td>HS</td><td>Z</td><td>false</td><td>false</td><td>Z</td></tr><tr><th>3</th><td>Anderson</td><td>Kerry</td><td>STS</td><td>P</td><td>true</td><td>false</td><td>P</td></tr><tr><th>4</th><td>Arntzen</td><td>Erik</td><td>GS</td><td>missing</td><td>false</td><td>false</td><td>GS</td></tr><tr><th>5</th><td>Bahl</td><td>Dave</td><td>FS</td><td>Z</td><td>false</td><td>false</td><td>Z</td></tr><tr><th>6</th><td>Barber</td><td>Adam</td><td>STS</td><td>P</td><td>false</td><td>false</td><td>P</td></tr><tr><th>7</th><td>Baumbach</td><td>Drew</td><td>ASP</td><td>Z</td><td>false</td><td>false</td><td>Z</td></tr><tr><th>8</th><td>Beck</td><td>Robert</td><td>NB</td><td>missing</td><td>false</td><td>true</td><td>NB</td></tr><tr><th>9</th><td>Bedell</td><td>Jody</td><td>SSC</td><td>missing</td><td>false</td><td>false</td><td>SSC</td></tr><tr><th>10</th><td>Bedell</td><td>Nicholas</td><td>SSC</td><td>P</td><td>false</td><td>false</td><td>P</td></tr><tr><th>11</th><td>Berndt</td><td>Kevin</td><td>GS</td><td>P</td><td>true</td><td>false</td><td>P</td></tr><tr><th>12</th><td>Braun</td><td>Thomas</td><td>STU</td><td>missing</td><td>false</td><td>false</td><td>STU</td></tr></tbody></table>"
      ],
      "text/latex": [
       "\\begin{tabular}{r|ccccccc}\n",
       "\t& LastName & FirstName & Class & Index & Exempt & Novice & IndexedClass\\\\\n",
       "\t\\hline\n",
       "\t& String & String & String & String⍰ & Bool & Bool & String\\\\\n",
       "\t\\hline\n",
       "\t1 & Abramovich & David & NA &  & false & true & NA \\\\\n",
       "\t2 & Anderson & Dwight & HS & Z & false & false & Z \\\\\n",
       "\t3 & Anderson & Kerry & STS & P & true & false & P \\\\\n",
       "\t4 & Arntzen & Erik & GS &  & false & false & GS \\\\\n",
       "\t5 & Bahl & Dave & FS & Z & false & false & Z \\\\\n",
       "\t6 & Barber & Adam & STS & P & false & false & P \\\\\n",
       "\t7 & Baumbach & Drew & ASP & Z & false & false & Z \\\\\n",
       "\t8 & Beck & Robert & NB &  & false & true & NB \\\\\n",
       "\t9 & Bedell & Jody & SSC &  & false & false & SSC \\\\\n",
       "\t10 & Bedell & Nicholas & SSC & P & false & false & P \\\\\n",
       "\t11 & Berndt & Kevin & GS & P & true & false & P \\\\\n",
       "\t12 & Braun & Thomas & STU &  & false & false & STU \\\\\n",
       "\\end{tabular}\n"
      ],
      "text/plain": [
       "12×7 DataFrame. Omitted printing of 1 columns\n",
       "│ Row │ LastName   │ FirstName │ Class  │ Index   │ Exempt │ Novice │\n",
       "│     │ \u001b[90mString\u001b[39m     │ \u001b[90mString\u001b[39m    │ \u001b[90mString\u001b[39m │ \u001b[90mString⍰\u001b[39m │ \u001b[90mBool\u001b[39m   │ \u001b[90mBool\u001b[39m   │\n",
       "├─────┼────────────┼───────────┼────────┼─────────┼────────┼────────┤\n",
       "│ 1   │ Abramovich │ David     │ NA     │ \u001b[90mmissing\u001b[39m │ false  │ true   │\n",
       "│ 2   │ Anderson   │ Dwight    │ HS     │ Z       │ false  │ false  │\n",
       "│ 3   │ Anderson   │ Kerry     │ STS    │ P       │ true   │ false  │\n",
       "│ 4   │ Arntzen    │ Erik      │ GS     │ \u001b[90mmissing\u001b[39m │ false  │ false  │\n",
       "│ 5   │ Bahl       │ Dave      │ FS     │ Z       │ false  │ false  │\n",
       "│ 6   │ Barber     │ Adam      │ STS    │ P       │ false  │ false  │\n",
       "│ 7   │ Baumbach   │ Drew      │ ASP    │ Z       │ false  │ false  │\n",
       "│ 8   │ Beck       │ Robert    │ NB     │ \u001b[90mmissing\u001b[39m │ false  │ true   │\n",
       "│ 9   │ Bedell     │ Jody      │ SSC    │ \u001b[90mmissing\u001b[39m │ false  │ false  │\n",
       "│ 10  │ Bedell     │ Nicholas  │ SSC    │ P       │ false  │ false  │\n",
       "│ 11  │ Berndt     │ Kevin     │ GS     │ P       │ true   │ false  │\n",
       "│ 12  │ Braun      │ Thomas    │ STU    │ \u001b[90mmissing\u001b[39m │ false  │ false  │"
      ]
     },
     "execution_count": 3,
     "metadata": {},
     "output_type": "execute_result"
    }
   ],
   "source": [
    "df_entries=RunOrderOptim.read_entries() #Default to example event\n",
    "first(df_entries,12) # Truncate the view for display purposes\n",
    "#show(df_entries,allrows=true) # Uncomment to show all the classes"
   ]
  },
  {
   "cell_type": "markdown",
   "metadata": {},
   "source": []
  },
  {
   "cell_type": "code",
   "execution_count": 4,
   "metadata": {},
   "outputs": [
    {
     "name": "stderr",
     "output_type": "stream",
     "text": [
      "┌ Info: Combining CAMC, CAMS, CAMT, EP, XP, SSC, DSP, STS, STU\n",
      "└ @ RunOrderOptim H:\\Projects\\Julia\\RunOrderOptim\\src\\RunOrderOptim.jl:53\n",
      "┌ Info: Combining CS, FS, GS, HS, SS\n",
      "└ @ RunOrderOptim H:\\Projects\\Julia\\RunOrderOptim\\src\\RunOrderOptim.jl:53\n"
     ]
    },
    {
     "data": {
      "text/plain": [
       "Variable of\n",
       "size: (51, 2)\n",
       "sign: NoSign()\n",
       "vexity: AffineVexity()"
      ]
     },
     "execution_count": 4,
     "metadata": {},
     "output_type": "execute_result"
    }
   ],
   "source": [
    "prob=RunOrderOptim.setup_problem(df_classes,df_entries; keep_empty=false) #Setup the problem\n",
    "prob.x"
   ]
  },
  {
   "cell_type": "code",
   "execution_count": 5,
   "metadata": {},
   "outputs": [],
   "source": [
    "solve!(prob.problem,GLPKSolverMIP()) #Solve the problem"
   ]
  },
  {
   "cell_type": "code",
   "execution_count": 6,
   "metadata": {},
   "outputs": [
    {
     "data": {
      "text/plain": [
       ":Optimal"
      ]
     },
     "execution_count": 6,
     "metadata": {},
     "output_type": "execute_result"
    }
   ],
   "source": [
    "prob.problem.status #Check the status of the solution"
   ]
  },
  {
   "cell_type": "code",
   "execution_count": 7,
   "metadata": {},
   "outputs": [
    {
     "data": {
      "text/plain": [
       "13.0"
      ]
     },
     "execution_count": 7,
     "metadata": {},
     "output_type": "execute_result"
    }
   ],
   "source": [
    "prob.problem.optval #Solution score.  Lower is better"
   ]
  },
  {
   "cell_type": "code",
   "execution_count": 8,
   "metadata": {},
   "outputs": [
    {
     "data": {
      "text/html": [
       "<table class=\"data-frame\"><thead><tr><th></th><th>RunGroup</th><th>Workers</th><th>Drivers</th><th>Novice</th></tr><tr><th></th><th>Int64</th><th>Int64</th><th>Int64</th><th>Int64</th></tr></thead><tbody><p>2 rows × 4 columns</p><tr><th>1</th><td>1</td><td>48</td><td>51</td><td>11</td></tr><tr><th>2</th><td>2</td><td>47</td><td>51</td><td>10</td></tr></tbody></table>"
      ],
      "text/latex": [
       "\\begin{tabular}{r|cccc}\n",
       "\t& RunGroup & Workers & Drivers & Novice\\\\\n",
       "\t\\hline\n",
       "\t& Int64 & Int64 & Int64 & Int64\\\\\n",
       "\t\\hline\n",
       "\t1 & 1 & 48 & 51 & 11 \\\\\n",
       "\t2 & 2 & 47 & 51 & 10 \\\\\n",
       "\\end{tabular}\n"
      ],
      "text/plain": [
       "2×4 DataFrame\n",
       "│ Row │ RunGroup │ Workers │ Drivers │ Novice │\n",
       "│     │ \u001b[90mInt64\u001b[39m    │ \u001b[90mInt64\u001b[39m   │ \u001b[90mInt64\u001b[39m   │ \u001b[90mInt64\u001b[39m  │\n",
       "├─────┼──────────┼─────────┼─────────┼────────┤\n",
       "│ 1   │ 1        │ 48      │ 51      │ 11     │\n",
       "│ 2   │ 2        │ 47      │ 51      │ 10     │"
      ]
     },
     "execution_count": 8,
     "metadata": {},
     "output_type": "execute_result"
    }
   ],
   "source": [
    "df=RunOrderOptim.compact_solution(prob)"
   ]
  },
  {
   "cell_type": "code",
   "execution_count": 9,
   "metadata": {},
   "outputs": [
    {
     "data": {
      "text/html": [
       "<table class=\"data-frame\"><thead><tr><th></th><th>RunGroup</th><th>Class</th><th>ClassGroup</th><th>Drivers</th><th>Workers</th></tr><tr><th></th><th>Int64</th><th>String</th><th>String</th><th>Int64</th><th>Int64</th></tr></thead><tbody><p>27 rows × 5 columns</p><tr><th>1</th><td>1</td><td>DM</td><td>Modified</td><td>4</td><td>4</td></tr><tr><th>2</th><td>1</td><td>P</td><td>Pro</td><td>23</td><td>10</td></tr><tr><th>3</th><td>1</td><td>DS</td><td>Street</td><td>10</td><td>9</td></tr><tr><th>4</th><td>1</td><td>SMF</td><td>Street Modified</td><td>5</td><td>5</td></tr><tr><th>5</th><td>1</td><td>SMF</td><td>Street Modified</td><td>5</td><td>5</td></tr><tr><th>6</th><td>1</td><td>SSM</td><td>Street Modified</td><td>4</td><td>4</td></tr><tr><th>7</th><td>1</td><td>Novice A-M</td><td>Novice</td><td>11</td><td>11</td></tr><tr><th>8</th><td>2</td><td>CAMC</td><td>Classic American</td><td>2</td><td>2</td></tr><tr><th>9</th><td>2</td><td>CAMS</td><td>Classic American</td><td>1</td><td>1</td></tr><tr><th>10</th><td>2</td><td>CAMT</td><td>Classic American</td><td>1</td><td>0</td></tr><tr><th>11</th><td>2</td><td>X</td><td>Exhibition</td><td>1</td><td>1</td></tr><tr><th>12</th><td>2</td><td>Z</td><td>PAX Index</td><td>18</td><td>12</td></tr><tr><th>13</th><td>2</td><td>EP</td><td>Prepared</td><td>1</td><td>1</td></tr><tr><th>14</th><td>2</td><td>XP</td><td>Prepared</td><td>1</td><td>1</td></tr><tr><th>15</th><td>2</td><td>SSC</td><td>Spec</td><td>1</td><td>1</td></tr><tr><th>16</th><td>2</td><td>BS</td><td>Street</td><td>4</td><td>2</td></tr><tr><th>17</th><td>2</td><td>CS</td><td>Street</td><td>3</td><td>2</td></tr><tr><th>18</th><td>2</td><td>ES</td><td>Street</td><td>5</td><td>3</td></tr><tr><th>19</th><td>2</td><td>FS</td><td>Street</td><td>1</td><td>1</td></tr><tr><th>20</th><td>2</td><td>GS</td><td>Street</td><td>2</td><td>2</td></tr><tr><th>21</th><td>2</td><td>HS</td><td>Street</td><td>3</td><td>3</td></tr><tr><th>22</th><td>2</td><td>SS</td><td>Street</td><td>1</td><td>1</td></tr><tr><th>23</th><td>2</td><td>DSP</td><td>Street Prepared</td><td>1</td><td>0</td></tr><tr><th>24</th><td>2</td><td>STS</td><td>Street Touring</td><td>2</td><td>2</td></tr><tr><th>25</th><td>2</td><td>STU</td><td>Street Touring</td><td>1</td><td>1</td></tr><tr><th>26</th><td>2</td><td>V</td><td>Vintage</td><td>2</td><td>1</td></tr><tr><th>27</th><td>2</td><td>Novice N-Z</td><td>Novice</td><td>10</td><td>10</td></tr></tbody></table>"
      ],
      "text/latex": [
       "\\begin{tabular}{r|ccccc}\n",
       "\t& RunGroup & Class & ClassGroup & Drivers & Workers\\\\\n",
       "\t\\hline\n",
       "\t& Int64 & String & String & Int64 & Int64\\\\\n",
       "\t\\hline\n",
       "\t1 & 1 & DM & Modified & 4 & 4 \\\\\n",
       "\t2 & 1 & P & Pro & 23 & 10 \\\\\n",
       "\t3 & 1 & DS & Street & 10 & 9 \\\\\n",
       "\t4 & 1 & SMF & Street Modified & 5 & 5 \\\\\n",
       "\t5 & 1 & SMF & Street Modified & 5 & 5 \\\\\n",
       "\t6 & 1 & SSM & Street Modified & 4 & 4 \\\\\n",
       "\t7 & 1 & Novice A-M & Novice & 11 & 11 \\\\\n",
       "\t8 & 2 & CAMC & Classic American & 2 & 2 \\\\\n",
       "\t9 & 2 & CAMS & Classic American & 1 & 1 \\\\\n",
       "\t10 & 2 & CAMT & Classic American & 1 & 0 \\\\\n",
       "\t11 & 2 & X & Exhibition & 1 & 1 \\\\\n",
       "\t12 & 2 & Z & PAX Index & 18 & 12 \\\\\n",
       "\t13 & 2 & EP & Prepared & 1 & 1 \\\\\n",
       "\t14 & 2 & XP & Prepared & 1 & 1 \\\\\n",
       "\t15 & 2 & SSC & Spec & 1 & 1 \\\\\n",
       "\t16 & 2 & BS & Street & 4 & 2 \\\\\n",
       "\t17 & 2 & CS & Street & 3 & 2 \\\\\n",
       "\t18 & 2 & ES & Street & 5 & 3 \\\\\n",
       "\t19 & 2 & FS & Street & 1 & 1 \\\\\n",
       "\t20 & 2 & GS & Street & 2 & 2 \\\\\n",
       "\t21 & 2 & HS & Street & 3 & 3 \\\\\n",
       "\t22 & 2 & SS & Street & 1 & 1 \\\\\n",
       "\t23 & 2 & DSP & Street Prepared & 1 & 0 \\\\\n",
       "\t24 & 2 & STS & Street Touring & 2 & 2 \\\\\n",
       "\t25 & 2 & STU & Street Touring & 1 & 1 \\\\\n",
       "\t26 & 2 & V & Vintage & 2 & 1 \\\\\n",
       "\t27 & 2 & Novice N-Z & Novice & 10 & 10 \\\\\n",
       "\\end{tabular}\n"
      ],
      "text/plain": [
       "27×5 DataFrame\n",
       "│ Row │ RunGroup │ Class      │ ClassGroup       │ Drivers │ Workers │\n",
       "│     │ \u001b[90mInt64\u001b[39m    │ \u001b[90mString\u001b[39m     │ \u001b[90mString\u001b[39m           │ \u001b[90mInt64\u001b[39m   │ \u001b[90mInt64\u001b[39m   │\n",
       "├─────┼──────────┼────────────┼──────────────────┼─────────┼─────────┤\n",
       "│ 1   │ 1        │ DM         │ Modified         │ 4       │ 4       │\n",
       "│ 2   │ 1        │ P          │ Pro              │ 23      │ 10      │\n",
       "│ 3   │ 1        │ DS         │ Street           │ 10      │ 9       │\n",
       "│ 4   │ 1        │ SMF        │ Street Modified  │ 5       │ 5       │\n",
       "│ 5   │ 1        │ SMF        │ Street Modified  │ 5       │ 5       │\n",
       "│ 6   │ 1        │ SSM        │ Street Modified  │ 4       │ 4       │\n",
       "│ 7   │ 1        │ Novice A-M │ Novice           │ 11      │ 11      │\n",
       "│ 8   │ 2        │ CAMC       │ Classic American │ 2       │ 2       │\n",
       "│ 9   │ 2        │ CAMS       │ Classic American │ 1       │ 1       │\n",
       "│ 10  │ 2        │ CAMT       │ Classic American │ 1       │ 0       │\n",
       "⋮\n",
       "│ 17  │ 2        │ CS         │ Street           │ 3       │ 2       │\n",
       "│ 18  │ 2        │ ES         │ Street           │ 5       │ 3       │\n",
       "│ 19  │ 2        │ FS         │ Street           │ 1       │ 1       │\n",
       "│ 20  │ 2        │ GS         │ Street           │ 2       │ 2       │\n",
       "│ 21  │ 2        │ HS         │ Street           │ 3       │ 3       │\n",
       "│ 22  │ 2        │ SS         │ Street           │ 1       │ 1       │\n",
       "│ 23  │ 2        │ DSP        │ Street Prepared  │ 1       │ 0       │\n",
       "│ 24  │ 2        │ STS        │ Street Touring   │ 2       │ 2       │\n",
       "│ 25  │ 2        │ STU        │ Street Touring   │ 1       │ 1       │\n",
       "│ 26  │ 2        │ V          │ Vintage          │ 2       │ 1       │\n",
       "│ 27  │ 2        │ Novice N-Z │ Novice           │ 10      │ 10      │"
      ]
     },
     "execution_count": 9,
     "metadata": {},
     "output_type": "execute_result"
    }
   ],
   "source": [
    "RunOrderOptim.full_solution(prob)"
   ]
  },
  {
   "cell_type": "code",
   "execution_count": 10,
   "metadata": {},
   "outputs": [
    {
     "name": "stdout",
     "output_type": "stream",
     "text": [
      "27×5 DataFrame\n",
      "│ Row │ RunGroup │ Class      │ ClassGroup       │ Drivers │ Workers │\n",
      "│     │ \u001b[90mInt64\u001b[39m    │ \u001b[90mString\u001b[39m     │ \u001b[90mString\u001b[39m           │ \u001b[90mInt64\u001b[39m   │ \u001b[90mInt64\u001b[39m   │\n",
      "├─────┼──────────┼────────────┼──────────────────┼─────────┼─────────┤\n",
      "│ 1   │ 1        │ DM         │ Modified         │ 4       │ 4       │\n",
      "│ 2   │ 1        │ P          │ Pro              │ 23      │ 10      │\n",
      "│ 3   │ 1        │ DS         │ Street           │ 10      │ 9       │\n",
      "│ 4   │ 1        │ SMF        │ Street Modified  │ 5       │ 5       │\n",
      "│ 5   │ 1        │ SMF        │ Street Modified  │ 5       │ 5       │\n",
      "│ 6   │ 1        │ SSM        │ Street Modified  │ 4       │ 4       │\n",
      "│ 7   │ 1        │ Novice A-M │ Novice           │ 11      │ 11      │\n",
      "│ 8   │ 2        │ CAMC       │ Classic American │ 2       │ 2       │\n",
      "│ 9   │ 2        │ CAMS       │ Classic American │ 1       │ 1       │\n",
      "│ 10  │ 2        │ CAMT       │ Classic American │ 1       │ 0       │\n",
      "│ 11  │ 2        │ X          │ Exhibition       │ 1       │ 1       │\n",
      "│ 12  │ 2        │ Z          │ PAX Index        │ 18      │ 12      │\n",
      "│ 13  │ 2        │ EP         │ Prepared         │ 1       │ 1       │\n",
      "│ 14  │ 2        │ XP         │ Prepared         │ 1       │ 1       │\n",
      "│ 15  │ 2        │ SSC        │ Spec             │ 1       │ 1       │\n",
      "│ 16  │ 2        │ BS         │ Street           │ 4       │ 2       │\n",
      "│ 17  │ 2        │ CS         │ Street           │ 3       │ 2       │\n",
      "│ 18  │ 2        │ ES         │ Street           │ 5       │ 3       │\n",
      "│ 19  │ 2        │ FS         │ Street           │ 1       │ 1       │\n",
      "│ 20  │ 2        │ GS         │ Street           │ 2       │ 2       │\n",
      "│ 21  │ 2        │ HS         │ Street           │ 3       │ 3       │\n",
      "│ 22  │ 2        │ SS         │ Street           │ 1       │ 1       │\n",
      "│ 23  │ 2        │ DSP        │ Street Prepared  │ 1       │ 0       │\n",
      "│ 24  │ 2        │ STS        │ Street Touring   │ 2       │ 2       │\n",
      "│ 25  │ 2        │ STU        │ Street Touring   │ 1       │ 1       │\n",
      "│ 26  │ 2        │ V          │ Vintage          │ 2       │ 1       │\n",
      "│ 27  │ 2        │ Novice N-Z │ Novice           │ 10      │ 10      │"
     ]
    }
   ],
   "source": [
    "show(RunOrderOptim.full_solution(prob), allrows=true)"
   ]
  },
  {
   "cell_type": "code",
   "execution_count": null,
   "metadata": {},
   "outputs": [],
   "source": []
  }
 ],
 "metadata": {
  "kernelspec": {
   "display_name": "Julia 1.1.0",
   "language": "julia",
   "name": "julia-1.1"
  },
  "language_info": {
   "file_extension": ".jl",
   "mimetype": "application/julia",
   "name": "julia",
   "version": "1.1.0"
  }
 },
 "nbformat": 4,
 "nbformat_minor": 2
}
